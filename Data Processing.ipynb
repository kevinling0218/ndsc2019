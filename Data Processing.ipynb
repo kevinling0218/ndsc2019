{
 "cells": [
  {
   "cell_type": "code",
   "execution_count": 7,
   "metadata": {},
   "outputs": [],
   "source": [
    "import json\n",
    "import pandas as pd"
   ]
  },
  {
   "cell_type": "code",
   "execution_count": 3,
   "metadata": {},
   "outputs": [],
   "source": [
    "### Open the json file\n",
    "\n",
    "with open('./data/beauty_profile_train.json') as f:\n",
    "    beauty_json = json.load(f)\n",
    "with open('./data/fashion_profile_train.json') as f:\n",
    "    fashion_json = json.load(f)\n",
    "with open('./data/mobile_profile_train.json') as f:\n",
    "    mobile_json = json.load(f)"
   ]
  },
  {
   "cell_type": "code",
   "execution_count": 6,
   "metadata": {},
   "outputs": [],
   "source": [
    "mobile_brands = mobile_json['Brand'].keys()\n",
    "beauty_brands = beauty_json['Brand'].keys()"
   ]
  },
  {
   "cell_type": "code",
   "execution_count": 9,
   "metadata": {},
   "outputs": [],
   "source": [
    "df_beauty_train = pd.read_csv('./data/processed/beauty_train_processed.csv')\n",
    "df_mobile_train = pd.read_csv('./data/processed/mobile_train_processed.csv')"
   ]
  },
  {
   "cell_type": "code",
   "execution_count": 10,
   "metadata": {},
   "outputs": [],
   "source": [
    "df_mobile_train['title_nobrand'] = df_mobile_train['title'].str.replace('|'.join(mobile_brands), '')"
   ]
  },
  {
   "cell_type": "code",
   "execution_count": 11,
   "metadata": {},
   "outputs": [],
   "source": [
    "from langdetect import detect\n",
    "\n",
    "def detect_language(x):\n",
    "    try:\n",
    "        return detect(x)\n",
    "    except:\n",
    "        return 'en'"
   ]
  },
  {
   "cell_type": "code",
   "execution_count": 13,
   "metadata": {},
   "outputs": [],
   "source": [
    "def language_binary(x):\n",
    "    '''If the language is not id, default to return English'''\n",
    "    if x == 'id':\n",
    "        return 'id'\n",
    "    else:\n",
    "        return 'en'"
   ]
  },
  {
   "cell_type": "code",
   "execution_count": 12,
   "metadata": {},
   "outputs": [],
   "source": [
    "df_mobile_train['language'] = df_mobile_train['title_nobrand'].apply(detect_language)"
   ]
  },
  {
   "cell_type": "code",
   "execution_count": 14,
   "metadata": {},
   "outputs": [],
   "source": [
    "df_mobile_train['language_processed'] = df_mobile_train['language'].apply(language_binary)"
   ]
  },
  {
   "cell_type": "code",
   "execution_count": 18,
   "metadata": {},
   "outputs": [],
   "source": [
    "df_mobile_train.to_csv('./data/processed/mobile_train_processed.csv')"
   ]
  },
  {
   "cell_type": "code",
   "execution_count": 19,
   "metadata": {},
   "outputs": [],
   "source": [
    "df_fashion_train = pd.read_csv('./data/processed/fashion_train_processed.csv')"
   ]
  },
  {
   "cell_type": "code",
   "execution_count": null,
   "metadata": {},
   "outputs": [],
   "source": []
  },
  {
   "cell_type": "code",
   "execution_count": null,
   "metadata": {},
   "outputs": [],
   "source": []
  }
 ],
 "metadata": {
  "kernelspec": {
   "display_name": "Python 3",
   "language": "python",
   "name": "python3"
  },
  "language_info": {
   "codemirror_mode": {
    "name": "ipython",
    "version": 3
   },
   "file_extension": ".py",
   "mimetype": "text/x-python",
   "name": "python",
   "nbconvert_exporter": "python",
   "pygments_lexer": "ipython3",
   "version": "3.7.1"
  }
 },
 "nbformat": 4,
 "nbformat_minor": 2
}
